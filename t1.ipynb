{
 "cells": [
  {
   "cell_type": "code",
   "execution_count": null,
   "metadata": {
    "vscode": {
     "languageId": "plaintext"
    }
   },
   "outputs": [],
   "source": [
    "from roboflow import Roboflow"
   ]
  },
  {
   "cell_type": "code",
   "execution_count": null,
   "metadata": {
    "vscode": {
     "languageId": "plaintext"
    }
   },
   "outputs": [],
   "source": [
    "rf = Roboflow(api_key=\"issMfowTYO9RCYFNGo5l\")\n",
    "'''projectpl = rf.workspace(\"thu3\").project(\"phanloai-rvkjm\")\n",
    "phanloai = projectpl.version(1).model\n",
    "projectl2n = rf.workspace(\"thu3\").project(\"loai2nho-sxgq5\")\n",
    "loai2nho = projectl2n.version(1).model\n",
    "project = rf.workspace(\"thu3\").project(\"loai2lon-xx8uo\")\n",
    "loai2lon = project.version(2).model\n",
    "project = rf.workspace(\"thu3\").project(\"loai4nho-d9x3x\")\n",
    "loai4nho = project.version(2).model\n",
    "project = rf.workspace(\"thu3\").project(\"loai4lon-kypra\")\n",
    "loai4lon = project.version(2).model\n",
    "project = rf.workspace(\"thu3\").project(\"loai5nho\")\n",
    "loai5nho = project.version(1).model\n",
    "project = rf.workspace(\"thu3\").project(\"loai5lon-wvszv\")\n",
    "loai5lon = project.version(1).model'''\n",
    "project = rf.workspace(\"loai4lon\").project(\"loai4lon-2\")\n",
    "khung = project.version(4).model\n",
    "#rf = Roboflow(api_key=\"Cxro7bHi6SJJyPs8OkaC\")\n",
    "project = rf.workspace(\"anhso\").project(\"anhso-4xgv0\")\n",
    "rsanh = project.version(1).model\n",
    "project = rf.workspace(\"thu3\").project(\"anhnguic123\")\n",
    "upside = project.version(3).model\n",
    "project = rf.workspace(\"u-2o0ff\").project(\"upside-irlzd-mgbjf\")\n",
    "upside1anhmodel = project.version(4).model\n",
    "projectbitco = rf.workspace(\"thu3\").project(\"bitcotask\")\n",
    "modelbitcotask = projectbitco.version(8).model"
   ]
  }
 ],
 "metadata": {
  "language_info": {
   "name": "python"
  }
 },
 "nbformat": 4,
 "nbformat_minor": 2
}
